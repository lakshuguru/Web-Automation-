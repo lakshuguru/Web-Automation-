{
 "cells": [
  {
   "cell_type": "code",
   "execution_count": null,
   "metadata": {},
   "outputs": [],
   "source": [
    "pip install qrcode"
   ]
  },
  {
   "cell_type": "code",
   "execution_count": 2,
   "metadata": {},
   "outputs": [],
   "source": [
    "import qrcode as qr"
   ]
  },
  {
   "cell_type": "code",
   "execution_count": 16,
   "metadata": {},
   "outputs": [],
   "source": [
    "data1= \"https://github.com/lakshuguru\""
   ]
  },
  {
   "cell_type": "markdown",
   "metadata": {},
   "source": [
    "#method-1    (simple and no customization)"
   ]
  },
  {
   "cell_type": "code",
   "execution_count": 17,
   "metadata": {},
   "outputs": [],
   "source": [
    "img=qr.make(data1)\n",
    "img.save(\"basic.png\")"
   ]
  },
  {
   "cell_type": "markdown",
   "metadata": {},
   "source": [
    "method-2 (QR code can be customized based on size, color, error control)"
   ]
  },
  {
   "cell_type": "code",
   "execution_count": 33,
   "metadata": {},
   "outputs": [],
   "source": [
    "data2=\"https://www.canva.com/design/DAFrCSpdRiA/riQbb1gccDLn4xPu73ZH7Q/edit?utm_content=DAFrCSpdRiA&utm_campaign=designshare&utm_medium=link2&utm_source=sharebutton\""
   ]
  },
  {
   "cell_type": "code",
   "execution_count": 36,
   "metadata": {},
   "outputs": [],
   "source": [
    "#an object to access the class(QRCode)\n",
    "qrob=qr.QRCode(version=3,box_size=10,border=5)\n",
    "qrob.add_data(data2)"
   ]
  },
  {
   "cell_type": "code",
   "execution_count": 30,
   "metadata": {},
   "outputs": [],
   "source": [
    "img=qrob.make(fit=True)\n",
    "img=qrob.make_image(fill_color=\"#132b5b\",back_color=\"black\")\n",
    "img.save(\"customized.png\")"
   ]
  },
  {
   "cell_type": "code",
   "execution_count": 5,
   "metadata": {},
   "outputs": [],
   "source": [
    "doc=\"https://smallpdf.com/file#s=92b4bf7e-2151-4bcf-843b-18622ea52f33\"\n",
    "qrob=qr.QRCode(version=3,box_size=10,border=5)\n",
    "qrob.add_data(doc)\n",
    "img=qrob.make(fit=True)\n",
    "img=qrob.make_image(fill_color=\"black\",back_color=\"#4B5320\")\n",
    "img.save(\"self.png\")\n",
    "#  #f5f5dc"
   ]
  }
 ],
 "metadata": {
  "kernelspec": {
   "display_name": "Python 3",
   "language": "python",
   "name": "python3"
  },
  "language_info": {
   "codemirror_mode": {
    "name": "ipython",
    "version": 3
   },
   "file_extension": ".py",
   "mimetype": "text/x-python",
   "name": "python",
   "nbconvert_exporter": "python",
   "pygments_lexer": "ipython3",
   "version": "3.10.0"
  },
  "orig_nbformat": 4
 },
 "nbformat": 4,
 "nbformat_minor": 2
}
