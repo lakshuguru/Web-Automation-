{
 "cells": [
  {
   "cell_type": "code",
   "execution_count": 4,
   "id": "43b0afe0",
   "metadata": {},
   "outputs": [
    {
     "name": "stdout",
     "output_type": "stream",
     "text": [
      "Requirement already satisfied: pywhatkit in c:\\users\\admin\\anaconda3\\anaconda\\lib\\site-packages (5.1)\n",
      "Requirement already satisfied: requests in c:\\users\\admin\\anaconda3\\anaconda\\lib\\site-packages (from pywhatkit) (2.25.1)\n",
      "Requirement already satisfied: pyautogui in c:\\users\\admin\\anaconda3\\anaconda\\lib\\site-packages (from pywhatkit) (0.9.53)\n",
      "Requirement already satisfied: wikipedia in c:\\users\\admin\\anaconda3\\anaconda\\lib\\site-packages (from pywhatkit) (1.4.0)\n",
      "Requirement already satisfied: Pillow in c:\\users\\admin\\anaconda3\\anaconda\\lib\\site-packages (from pywhatkit) (8.2.0)\n",
      "Requirement already satisfied: pymsgbox in c:\\users\\admin\\anaconda3\\anaconda\\lib\\site-packages (from pyautogui->pywhatkit) (1.0.9)\n",
      "Requirement already satisfied: PyTweening>=1.0.1 in c:\\users\\admin\\anaconda3\\anaconda\\lib\\site-packages (from pyautogui->pywhatkit) (1.0.4)\n",
      "Requirement already satisfied: pygetwindow>=0.0.5 in c:\\users\\admin\\anaconda3\\anaconda\\lib\\site-packages (from pyautogui->pywhatkit) (0.0.9)\n",
      "Requirement already satisfied: mouseinfo in c:\\users\\admin\\anaconda3\\anaconda\\lib\\site-packages (from pyautogui->pywhatkit) (0.1.3)\n",
      "Requirement already satisfied: pyscreeze>=0.1.21 in c:\\users\\admin\\anaconda3\\anaconda\\lib\\site-packages (from pyautogui->pywhatkit) (0.1.28)\n",
      "Requirement already satisfied: pyrect in c:\\users\\admin\\anaconda3\\anaconda\\lib\\site-packages (from pygetwindow>=0.0.5->pyautogui->pywhatkit) (0.1.4)\n",
      "Requirement already satisfied: pyperclip in c:\\users\\admin\\anaconda3\\anaconda\\lib\\site-packages (from mouseinfo->pyautogui->pywhatkit) (1.8.2)\n",
      "Requirement already satisfied: chardet<5,>=3.0.2 in c:\\users\\admin\\anaconda3\\anaconda\\lib\\site-packages (from requests->pywhatkit) (4.0.0)\n",
      "Requirement already satisfied: urllib3<1.27,>=1.21.1 in c:\\users\\admin\\anaconda3\\anaconda\\lib\\site-packages (from requests->pywhatkit) (1.26.4)\n",
      "Requirement already satisfied: certifi>=2017.4.17 in c:\\users\\admin\\anaconda3\\anaconda\\lib\\site-packages (from requests->pywhatkit) (2020.12.5)\n",
      "Requirement already satisfied: idna<3,>=2.5 in c:\\users\\admin\\anaconda3\\anaconda\\lib\\site-packages (from requests->pywhatkit) (2.10)\n",
      "Requirement already satisfied: beautifulsoup4 in c:\\users\\admin\\anaconda3\\anaconda\\lib\\site-packages (from wikipedia->pywhatkit) (4.9.3)\n",
      "Requirement already satisfied: soupsieve>1.2 in c:\\users\\admin\\anaconda3\\anaconda\\lib\\site-packages (from beautifulsoup4->wikipedia->pywhatkit) (2.2.1)\n",
      "Note: you may need to restart the kernel to use updated packages.\n"
     ]
    }
   ],
   "source": [
    "pip install pywhatkit"
   ]
  },
  {
   "cell_type": "code",
   "execution_count": 5,
   "id": "50f94941",
   "metadata": {},
   "outputs": [
    {
     "name": "stdout",
     "output_type": "stream",
     "text": [
      "Requirement already satisfied: pywhatkit in c:\\users\\admin\\anaconda3\\anaconda\\lib\\site-packages (5.1)\n",
      "Requirement already satisfied: requests in c:\\users\\admin\\anaconda3\\anaconda\\lib\\site-packages (from pywhatkit) (2.25.1)\n",
      "Requirement already satisfied: wikipedia in c:\\users\\admin\\anaconda3\\anaconda\\lib\\site-packages (from pywhatkit) (1.4.0)\n",
      "Requirement already satisfied: pyautogui in c:\\users\\admin\\anaconda3\\anaconda\\lib\\site-packages (from pywhatkit) (0.9.53)\n",
      "Requirement already satisfied: Pillow in c:\\users\\admin\\anaconda3\\anaconda\\lib\\site-packages (from pywhatkit) (8.2.0)\n",
      "Requirement already satisfied: pymsgbox in c:\\users\\admin\\anaconda3\\anaconda\\lib\\site-packages (from pyautogui->pywhatkit) (1.0.9)\n",
      "Requirement already satisfied: mouseinfo in c:\\users\\admin\\anaconda3\\anaconda\\lib\\site-packages (from pyautogui->pywhatkit) (0.1.3)\n",
      "Requirement already satisfied: PyTweening>=1.0.1 in c:\\users\\admin\\anaconda3\\anaconda\\lib\\site-packages (from pyautogui->pywhatkit) (1.0.4)\n",
      "Requirement already satisfied: pyscreeze>=0.1.21 in c:\\users\\admin\\anaconda3\\anaconda\\lib\\site-packages (from pyautogui->pywhatkit) (0.1.28)\n",
      "Requirement already satisfied: pygetwindow>=0.0.5 in c:\\users\\admin\\anaconda3\\anaconda\\lib\\site-packages (from pyautogui->pywhatkit) (0.0.9)\n",
      "Requirement already satisfied: pyrect in c:\\users\\admin\\anaconda3\\anaconda\\lib\\site-packages (from pygetwindow>=0.0.5->pyautogui->pywhatkit) (0.1.4)\n",
      "Requirement already satisfied: pyperclip in c:\\users\\admin\\anaconda3\\anaconda\\lib\\site-packages (from mouseinfo->pyautogui->pywhatkit) (1.8.2)\n",
      "Requirement already satisfied: urllib3<1.27,>=1.21.1 in c:\\users\\admin\\anaconda3\\anaconda\\lib\\site-packages (from requests->pywhatkit) (1.26.4)\n",
      "Requirement already satisfied: certifi>=2017.4.17 in c:\\users\\admin\\anaconda3\\anaconda\\lib\\site-packages (from requests->pywhatkit) (2020.12.5)\n",
      "Requirement already satisfied: chardet<5,>=3.0.2 in c:\\users\\admin\\anaconda3\\anaconda\\lib\\site-packages (from requests->pywhatkit) (4.0.0)\n",
      "Requirement already satisfied: idna<3,>=2.5 in c:\\users\\admin\\anaconda3\\anaconda\\lib\\site-packages (from requests->pywhatkit) (2.10)\n",
      "Requirement already satisfied: beautifulsoup4 in c:\\users\\admin\\anaconda3\\anaconda\\lib\\site-packages (from wikipedia->pywhatkit) (4.9.3)\n",
      "Requirement already satisfied: soupsieve>1.2 in c:\\users\\admin\\anaconda3\\anaconda\\lib\\site-packages (from beautifulsoup4->wikipedia->pywhatkit) (2.2.1)\n",
      "Note: you may need to restart the kernel to use updated packages.\n"
     ]
    }
   ],
   "source": [
    "pip install pywhatkit"
   ]
  },
  {
   "cell_type": "code",
   "execution_count": 1,
   "metadata": {},
   "outputs": [],
   "source": [
    "import pywhatkit as pt"
   ]
  },
  {
   "cell_type": "code",
   "execution_count": 2,
   "metadata": {},
   "outputs": [
    {
     "name": "stdout",
     "output_type": "stream",
     "text": [
      "In 132 seconds web.whatsapp.com will open and after 40 seconds message will be delivered\n"
     ]
    }
   ],
   "source": [
    "pt.sendwhatmsg(\"+919865880447\",\"hai\",19,32)"
   ]
  },
  {
   "cell_type": "code",
   "execution_count": 40,
   "metadata": {},
   "outputs": [],
   "source": [
    "pt.sendwhats_image(phone_no='+919865880447',img_path=r'C:\\Users\\admin\\Downloads\\me.png',caption='hai')\n"
   ]
  },
  {
   "cell_type": "code",
   "execution_count": 2,
   "metadata": {},
   "outputs": [
    {
     "data": {
      "text/plain": [
       "'https://www.youtube.com/watch?v=JGwWNGJdvx8'"
      ]
     },
     "execution_count": 2,
     "metadata": {},
     "output_type": "execute_result"
    }
   ],
   "source": [
    "pt.playonyt('shape of you')"
   ]
  },
  {
   "cell_type": "code",
   "execution_count": 7,
   "metadata": {},
   "outputs": [],
   "source": [
    "pt.search('compasinate')"
   ]
  },
  {
   "cell_type": "code",
   "execution_count": 23,
   "metadata": {},
   "outputs": [
    {
     "name": "stdout",
     "output_type": "stream",
     "text": [
      "Python is an interpreted high-level general-purpose programming language. Its design philosophy emphasizes code readability with its use of significant indentation. Its language constructs as well as its object-oriented approach aim to help programmers write clear, logical code for small and large-scale projects.Python is dynamically-typed and garbage-collected.\n"
     ]
    }
   ],
   "source": [
    "pt.info(\"python programming language\")"
   ]
  },
  {
   "cell_type": "code",
   "execution_count": 34,
   "metadata": {},
   "outputs": [],
   "source": [
    "#pt.image_to_ascii_art(r\"C:\\Users\\admin\\Downloads.jpg\",r\"C:\\Users\\admin\\Downloads.txt\")"
   ]
  },
  {
   "cell_type": "code",
   "execution_count": 36,
   "metadata": {},
   "outputs": [],
   "source": [
    "pt.text_to_handwriting(\"hai i'm lakshanaa, an eager beaver data science scholar. \\ni kinda love me for my optimistic charater.\",r\"C:\\Users\\admin\\Downloads\\me.png\")"
   ]
  },
  {
   "cell_type": "code",
   "execution_count": null,
   "metadata": {},
   "outputs": [],
   "source": []
  }
 ],
 "metadata": {
  "interpreter": {
   "hash": "1d316e1741ee9a9e3c3f67cdbcf1a524dcf76ec07d453b0f6cab3a13ca6fbd1a"
  },
  "kernelspec": {
   "display_name": "Python 3.8.8 64-bit ('base': conda)",
   "name": "python3"
  },
  "language_info": {
   "codemirror_mode": {
    "name": "ipython",
    "version": 3
   },
   "file_extension": ".py",
   "mimetype": "text/x-python",
   "name": "python",
   "nbconvert_exporter": "python",
   "pygments_lexer": "ipython3",
   "version": "3.8.8"
  }
 },
 "nbformat": 4,
 "nbformat_minor": 5
}
